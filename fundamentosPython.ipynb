{
  "nbformat": 4,
  "nbformat_minor": 0,
  "metadata": {
    "colab": {
      "name": "fundamentosPython.ipynb",
      "provenance": [],
      "collapsed_sections": [],
      "authorship_tag": "ABX9TyNWarN9NqwZSw+mkaKsF4Yp",
      "include_colab_link": true
    },
    "kernelspec": {
      "name": "python3",
      "display_name": "Python 3"
    }
  },
  "cells": [
    {
      "cell_type": "markdown",
      "metadata": {
        "id": "view-in-github",
        "colab_type": "text"
      },
      "source": [
        "<a href=\"https://colab.research.google.com/github/everson-silva/fundamentosPython/blob/main/fundamentosPython.ipynb\" target=\"_parent\"><img src=\"https://colab.research.google.com/assets/colab-badge.svg\" alt=\"Open In Colab\"/></a>"
      ]
    },
    {
      "cell_type": "code",
      "metadata": {
        "colab": {
          "base_uri": "https://localhost:8080/"
        },
        "id": "5Ty_jzOd9jJT",
        "outputId": "bd53e8fd-4d6c-4f00-9976-ef9e68edb979"
      },
      "source": [
        "print(\"Olá, mundo!\")\r\n"
      ],
      "execution_count": 4,
      "outputs": [
        {
          "output_type": "stream",
          "text": [
            "Olá, mundo!\n"
          ],
          "name": "stdout"
        }
      ]
    },
    {
      "cell_type": "code",
      "metadata": {
        "colab": {
          "base_uri": "https://localhost:8080/"
        },
        "id": "J6yrnjf__5oz",
        "outputId": "6575e244-9f38-471d-e36c-cf46603563d2"
      },
      "source": [
        "nome = \"Olá, mundo\"\r\n",
        "print(nome)"
      ],
      "execution_count": 5,
      "outputs": [
        {
          "output_type": "stream",
          "text": [
            "Olá, mundo\n"
          ],
          "name": "stdout"
        }
      ]
    },
    {
      "cell_type": "code",
      "metadata": {
        "colab": {
          "base_uri": "https://localhost:8080/"
        },
        "id": "y6OpE7FXAaTB",
        "outputId": "56c996b2-050b-4c27-f736-d6496924331e"
      },
      "source": [
        "print(nome)"
      ],
      "execution_count": 6,
      "outputs": [
        {
          "output_type": "stream",
          "text": [
            "Olá, mundo\n"
          ],
          "name": "stdout"
        }
      ]
    },
    {
      "cell_type": "code",
      "metadata": {
        "id": "xTUTbZ1lB1NO"
      },
      "source": [
        ""
      ],
      "execution_count": null,
      "outputs": []
    },
    {
      "cell_type": "code",
      "metadata": {
        "colab": {
          "base_uri": "https://localhost:8080/"
        },
        "id": "RaSj-KMvB1O1",
        "outputId": "03445633-ffce-49b4-b2f2-b31b01718cec"
      },
      "source": [
        "nome = \"Everson\"\r\n",
        "sobrenome = \"Silva\"\r\n",
        "\r\n",
        "print(nome,sobrenome)"
      ],
      "execution_count": 13,
      "outputs": [
        {
          "output_type": "stream",
          "text": [
            "Everson Silva\n"
          ],
          "name": "stdout"
        }
      ]
    },
    {
      "cell_type": "code",
      "metadata": {
        "colab": {
          "base_uri": "https://localhost:8080/"
        },
        "id": "fLnMBwTqC7o1",
        "outputId": "0957aa25-05cb-4c01-f259-1b4e58d4ffa5"
      },
      "source": [
        "numero = 5\r\n",
        "print(numero)\r\n"
      ],
      "execution_count": 20,
      "outputs": [
        {
          "output_type": "stream",
          "text": [
            "5\n"
          ],
          "name": "stdout"
        }
      ]
    },
    {
      "cell_type": "code",
      "metadata": {
        "colab": {
          "base_uri": "https://localhost:8080/"
        },
        "id": "qOhA5PLyDCdL",
        "outputId": "3ef21bfc-a996-4850-fbd2-8e11650acf8b"
      },
      "source": [
        "numero=numero+5\r\n",
        "print(numero)\r\n",
        "print(numero+6)"
      ],
      "execution_count": 21,
      "outputs": [
        {
          "output_type": "stream",
          "text": [
            "10\n",
            "16\n"
          ],
          "name": "stdout"
        }
      ]
    },
    {
      "cell_type": "code",
      "metadata": {
        "colab": {
          "base_uri": "https://localhost:8080/"
        },
        "id": "HRRv_ar5DhWE",
        "outputId": "8d64f7bd-3679-4060-e824-c56107990ad6"
      },
      "source": [
        "numero = 5\r\n",
        "numero_decimal = 5.5\r\n",
        "texto = \"Everson\"\r\n",
        "maior_idade = True\r\n",
        "\r\n",
        "print(numero)\r\n",
        "print(numero_decimal)\r\n",
        "print(texto)\r\n",
        "print(maior_idade)\r\n",
        "\r\n",
        "tipo_numero= type(numero)\r\n",
        "print(tipo_numero)\r\n",
        "print(type(numero))"
      ],
      "execution_count": 22,
      "outputs": [
        {
          "output_type": "stream",
          "text": [
            "5\n",
            "5.5\n",
            "Everson\n",
            "True\n",
            "<class 'int'>\n",
            "<class 'int'>\n"
          ],
          "name": "stdout"
        }
      ]
    },
    {
      "cell_type": "code",
      "metadata": {
        "id": "OHbAw_dXIG1w"
      },
      "source": [
        "soma = 2+5.5\r\n",
        "subtracao = 3-8\r\n",
        "multiplicacao = 3*5\r\n",
        "exponenciacao = 2**3\r\n",
        "divisao = 5/3\r\n",
        "divisao_inteiro = 5//3\r\n",
        "resto_divisao = 5%3 "
      ],
      "execution_count": 31,
      "outputs": []
    },
    {
      "cell_type": "code",
      "metadata": {
        "colab": {
          "base_uri": "https://localhost:8080/"
        },
        "id": "PHlhbOpFIKbm",
        "outputId": "ba8ac331-76cb-42b6-def5-fe1de1d2ca74"
      },
      "source": [
        "print(soma, subtracao, multiplicacao, exponenciacao, divisao, divisao_inteiro, resto_divisao)"
      ],
      "execution_count": 32,
      "outputs": [
        {
          "output_type": "stream",
          "text": [
            "7.5 -5 15 8 1.6666666666666667 1 2\n"
          ],
          "name": "stdout"
        }
      ]
    },
    {
      "cell_type": "markdown",
      "metadata": {
        "id": "RYFOhGjxLSsU"
      },
      "source": [
        "# Exercício 1 - \"E os 10% do garçom?\"\r\n",
        "\r\n",
        "- Defina uma variável para o valor de uma refeição que custou `R$ 42,54`;\r\n",
        "- Defina uma variável para o valor da taxa de serviço que é de `10%`;\r\n",
        "- Defina uma variável que calcula o valor total da conta e exiba-o no console (sem formatação, por enquanto, apenas o valor do resultado)."
      ]
    },
    {
      "cell_type": "code",
      "metadata": {
        "colab": {
          "base_uri": "https://localhost:8080/"
        },
        "id": "dRViYJagImRd",
        "outputId": "315c4dda-4d8a-4768-bc94-d3c9c2dd5536"
      },
      "source": [
        "valor_refeicao = 42.54\r\n",
        "taxa_serviço = valor_refeicao * (10/100)\r\n",
        "total = valor_refeicao + taxa_serviço\r\n",
        "\r\n",
        "print(total)"
      ],
      "execution_count": 34,
      "outputs": [
        {
          "output_type": "stream",
          "text": [
            "46.794\n"
          ],
          "name": "stdout"
        }
      ]
    },
    {
      "cell_type": "code",
      "metadata": {
        "colab": {
          "base_uri": "https://localhost:8080/"
        },
        "id": "AhUByRYFRUmQ",
        "outputId": "4d99e34a-52a5-44ef-828d-e0b1fa115946"
      },
      "source": [
        "valor_refeicao = float(input(\"Digite o valor da refeição: \"))\r\n",
        "taxa = float(input(\"Digite a taxa de serviço: \"))\r\n",
        "taxa_serviço = valor_refeicao * (taxa/100)\r\n",
        "total = valor_refeicao + taxa_serviço\r\n",
        "\r\n",
        "print(f\"Valor da reifeição = R$ {valor_refeicao:.2f} \\nValor da taxa de serviço = R$ {taxa_serviço:.2f} \\nValor total = R$ {total:.2f}\")\r\n"
      ],
      "execution_count": 50,
      "outputs": [
        {
          "output_type": "stream",
          "text": [
            "Digite o valor da refeição: 50\n",
            "Digite a taxa de serviço: 5\n",
            "Valor da reifeição = R$ 50.00 \n",
            "Valor da taxa de serviço = R$ 2.50 \n",
            "Valor total = R$ 52.50\n"
          ],
          "name": "stdout"
        }
      ]
    },
    {
      "cell_type": "code",
      "metadata": {
        "id": "E2nUcJbkT2RU"
      },
      "source": [
        ""
      ],
      "execution_count": null,
      "outputs": []
    }
  ]
}